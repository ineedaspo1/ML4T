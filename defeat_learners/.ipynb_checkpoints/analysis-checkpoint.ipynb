{
 "cells": [
  {
   "cell_type": "code",
   "execution_count": 49,
   "metadata": {
    "collapsed": false
   },
   "outputs": [],
   "source": [
    "import math\n",
    "import pandas as pd\n",
    "import numpy as np\n",
    "import matplotlib.pyplot as plt\n",
    "import seaborn as sns\n",
    "import LinRegLearner as lrl\n",
    "import DTLearner as dt\n",
    "import sys\n",
    "%matplotlib inline\n",
    "import warnings\n",
    "warnings.filterwarnings('ignore')"
   ]
  },
  {
   "cell_type": "markdown",
   "metadata": {},
   "source": [
    "## Best For LinRegLearner"
   ]
  },
  {
   "cell_type": "code",
   "execution_count": 50,
   "metadata": {
    "collapsed": true
   },
   "outputs": [],
   "source": [
    "n_samples = 30\n",
    "n_features = 1\n",
    "Xval_range = 100.0\n",
    "noise_std = Xval_range / 30.0\n",
    "\n",
    "X = np.random.random(size = (n_samples,n_features))*2*Xval_range - Xval_range\n",
    "bias_unit = np.ones(shape=(n_samples,1))\n",
    "noise = np.random.normal(size = n_samples, scale=noise_std)\n",
    "coefficients = np.random.random(size = (n_features + 1,))*2*2.0 - 2.0\n",
    "\n",
    "X = np.append(bias_unit, X, axis=1)\n",
    "Y = np.dot(X,coefficients)  + noise"
   ]
  },
  {
   "cell_type": "code",
   "execution_count": 51,
   "metadata": {
    "collapsed": false
   },
   "outputs": [],
   "source": [
    "learner1 = lrl.LinRegLearner(verbose = False)\n",
    "learner1.addEvidence(X, Y) # train it\n",
    "predY1 = learner1.query(X)"
   ]
  },
  {
   "cell_type": "code",
   "execution_count": 52,
   "metadata": {
    "collapsed": false
   },
   "outputs": [],
   "source": [
    "learner2 = dt.DTLearner(verbose = False)\n",
    "learner2.addEvidence(X, Y) # train it\n",
    "predY2 = learner2.query(X)"
   ]
  },
  {
   "cell_type": "code",
   "execution_count": 53,
   "metadata": {
    "collapsed": false
   },
   "outputs": [
    {
     "data": {
      "text/plain": [
       "[<matplotlib.lines.Line2D at 0x7efc01e55588>]"
      ]
     },
     "execution_count": 53,
     "metadata": {},
     "output_type": "execute_result"
    },
    {
     "data": {
      "image/png": "[encoded data removed]",
      "text/plain": [
       "<matplotlib.figure.Figure at 0x7efc01e7b7b8>"
      ]
     },
     "metadata": {},
     "output_type": "display_data"
    }
   ],
   "source": [
    "plt.plot(X[:,1],Y,\"ro\")\n",
    "plt.plot(X[:,1],predY1,\"bo\")\n",
    "plt.plot(X[:,1],predY2,\"g^\")"
   ]
  },
  {
   "cell_type": "markdown",
   "metadata": {},
   "source": [
    "## Best for DTLearner"
   ]
  },
  {
   "cell_type": "code",
   "execution_count": 62,
   "metadata": {
    "collapsed": false
   },
   "outputs": [],
   "source": [
    "n_samples = 100\n",
    "n_features = 1\n",
    "Xval_range = 10.0 \n",
    "noise_std = Xval_range**2 / 4.0\n",
    "A = Xval_range / 2.0\n",
    "X = np.random.random(size = (n_samples,n_features)) *2*Xval_range - Xval_range\n",
    "\n",
    "noise = np.random.normal(size = n_samples, scale = noise_std)\n",
    "\n",
    "coefficients = np.random.random(size = (n_features,)) + A\n",
    "\n",
    "#Y = np.dot(A*np.cos(X) + X,coefficients)  + noise\n",
    "#Y = np.dot(A*np.exp(-X) + A*X ,coefficients)  + noise\n",
    "Y = np.dot(A*A*np.cos(X) - X*X,coefficients)  + noise\n"
   ]
  },
  {
   "cell_type": "code",
   "execution_count": 63,
   "metadata": {
    "collapsed": true
   },
   "outputs": [],
   "source": [
    "learner1 = lrl.LinRegLearner(verbose = False)\n",
    "learner1.addEvidence(X, Y) # train it\n",
    "predY1 = learner1.query(X)"
   ]
  },
  {
   "cell_type": "code",
   "execution_count": 64,
   "metadata": {
    "collapsed": true
   },
   "outputs": [],
   "source": [
    "learner2 = dt.DTLearner(verbose = False)\n",
    "learner2.addEvidence(X, Y) # train it\n",
    "predY2 = learner2.query(X)"
   ]
  },
  {
   "cell_type": "code",
   "execution_count": 65,
   "metadata": {
    "collapsed": false
   },
   "outputs": [
    {
     "data": {
      "text/plain": [
       "[<matplotlib.lines.Line2D at 0x7efc01d27cc0>]"
      ]
     },
     "execution_count": 65,
     "metadata": {},
     "output_type": "execute_result"
    },
    {
     "data": {
      "image/png": "[encoded data removed]",
      "text/plain": [
       "<matplotlib.figure.Figure at 0x7efc01d57278>"
      ]
     },
     "metadata": {},
     "output_type": "display_data"
    }
   ],
   "source": [
    "plt.plot(X,Y,\"ro\")\n",
    "plt.plot(X,predY1,\"bo\")\n",
    "plt.plot(X,predY2,\"g^\")"
   ]
  },
  {
   "cell_type": "code",
   "execution_count": null,
   "metadata": {
    "collapsed": false,
    "scrolled": true
   },
   "outputs": [],
   "source": []
  },
  {
   "cell_type": "code",
   "execution_count": null,
   "metadata": {
    "collapsed": true
   },
   "outputs": [],
   "source": []
  }
 ],
 "metadata": {
  "anaconda-cloud": {},
  "kernelspec": {
   "display_name": "Python [default]",
   "language": "python",
   "name": "python3"
  },
  "language_info": {
   "codemirror_mode": {
    "name": "ipython",
    "version": 3
   },
   "file_extension": ".py",
   "mimetype": "text/x-python",
   "name": "python",
   "nbconvert_exporter": "python",
   "pygments_lexer": "ipython3",
   "version": "3.5.2"
  }
 },
 "nbformat": 4,
 "nbformat_minor": 1
}
