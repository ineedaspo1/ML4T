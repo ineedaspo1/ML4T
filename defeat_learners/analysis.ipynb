{
 "cells": [
  {
   "cell_type": "code",
   "execution_count": 2,
   "metadata": {
    "collapsed": false
   },
   "outputs": [],
   "source": [
    "import math\n",
    "import pandas as pd\n",
    "import numpy as np\n",
    "import matplotlib.pyplot as plt\n",
    "import seaborn as sns\n",
    "#import LinRegLearner as lrl\n",
    "#import DTLearner as dt\n",
    "import sys\n",
    "%matplotlib inline"
   ]
  },
  {
   "cell_type": "markdown",
   "metadata": {},
   "source": [
    "## Best For LinRegLearner"
   ]
  },
  {
   "cell_type": "code",
   "execution_count": 527,
   "metadata": {
    "collapsed": true
   },
   "outputs": [],
   "source": [
    "n_samples = 30\n",
    "n_features = 1\n",
    "Xval_range = 100.0\n",
    "noise_std = Xval_range / 30.0\n",
    "\n",
    "X = np.random.random(size = (n_samples,n_features))*2*Xval_range - Xval_range\n",
    "bias_unit = np.ones(shape=(n_samples,1))\n",
    "noise = np.random.normal(size = n_samples, scale=noise_std)\n",
    "coefficients = np.random.random(size = (n_features + 1,))*2*2.0 - 2.0\n",
    "\n",
    "X = np.append(bias_unit, X, axis=1)\n",
    "Y = np.dot(X,coefficients)  + noise"
   ]
  },
  {
   "cell_type": "code",
   "execution_count": 528,
   "metadata": {
    "collapsed": false
   },
   "outputs": [
    {
     "data": {
      "text/plain": [
       "[<matplotlib.lines.Line2D at 0x7fd65a6e4518>]"
      ]
     },
     "execution_count": 528,
     "metadata": {},
     "output_type": "execute_result"
    },
    {
     "data": {
      "image/png": "[encoded data removed]",
      "text/plain": [
       "<matplotlib.figure.Figure at 0x7fd65a724828>"
      ]
     },
     "metadata": {},
     "output_type": "display_data"
    }
   ],
   "source": [
    "plt.plot(X[:,1],Y,\"ro\")"
   ]
  },
  {
   "cell_type": "markdown",
   "metadata": {},
   "source": [
    "## Best for DTLearner"
   ]
  },
  {
   "cell_type": "code",
   "execution_count": 346,
   "metadata": {
    "collapsed": false
   },
   "outputs": [],
   "source": [
    "n_samples = 1000\n",
    "n_features = 1\n",
    "Xval_range = 10.0 \n",
    "noise_std = Xval_range**2 / 4.0\n",
    "A = Xval_range / 2.0\n",
    "X = np.random.random(size = (n_samples,n_features)) *2*Xval_range - Xval_range\n",
    "\n",
    "noise = np.random.normal(size = n_samples, scale = noise_std)\n",
    "\n",
    "coefficients = np.random.random(size = (n_features,)) + A\n",
    "\n",
    "#Y = np.dot(A*np.cos(X) + X,coefficients)  + noise\n",
    "#Y = np.dot(A*np.exp(-X) + A*X ,coefficients)  + noise\n",
    "Y = np.dot(-X*X,coefficients)  + noise\n"
   ]
  },
  {
   "cell_type": "code",
   "execution_count": 347,
   "metadata": {
    "collapsed": false,
    "scrolled": true
   },
   "outputs": [
    {
     "data": {
      "text/plain": [
       "[<matplotlib.lines.Line2D at 0x7f36fd908978>]"
      ]
     },
     "execution_count": 347,
     "metadata": {},
     "output_type": "execute_result"
    },
    {
     "data": {
      "image/png": "[encoded data removed]",
      "text/plain": [
       "<matplotlib.figure.Figure at 0x7f36fd947080>"
      ]
     },
     "metadata": {},
     "output_type": "display_data"
    }
   ],
   "source": [
    "plt.plot(X,Y,\"ro\")"
   ]
  },
  {
   "cell_type": "code",
   "execution_count": null,
   "metadata": {
    "collapsed": true
   },
   "outputs": [],
   "source": []
  }
 ],
 "metadata": {
  "anaconda-cloud": {},
  "kernelspec": {
   "display_name": "Python [default]",
   "language": "python",
   "name": "python3"
  },
  "language_info": {
   "codemirror_mode": {
    "name": "ipython",
    "version": 3
   },
   "file_extension": ".py",
   "mimetype": "text/x-python",
   "name": "python",
   "nbconvert_exporter": "python",
   "pygments_lexer": "ipython3",
   "version": "3.5.2"
  }
 },
 "nbformat": 4,
 "nbformat_minor": 1
}
