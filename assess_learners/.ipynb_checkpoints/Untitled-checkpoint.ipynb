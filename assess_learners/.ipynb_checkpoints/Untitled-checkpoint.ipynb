{
 "cells": [
  {
   "cell_type": "code",
   "execution_count": 57,
   "metadata": {
    "collapsed": false
   },
   "outputs": [],
   "source": [
    "import math\n",
    "import pandas as pd\n",
    "import numpy as np\n",
    "import matplotlib.pyplot as plt\n",
    "import seaborn as sns\n",
    "\n",
    "#import LinRegLearner as lrl\n",
    "import DTLearner as dt\n",
    "#import RTLearner as rt\n",
    "#import BagLearner as bl\n",
    "#import InsaneLearner as it\n",
    "import sys\n",
    "%matplotlib inline"
   ]
  },
  {
   "cell_type": "markdown",
   "metadata": {},
   "source": [
    "## DTLearner Analysis\n",
    "\n",
    "Does overfitting occur with respect to leaf_size? Consider the dataset istanbul.csv with DTLearner. For which values of leaf_size does overfitting occur? Use RMSE as your metric for assessing overfitting. Support your assertion with graphs/charts. (Don't use bagging)."
   ]
  },
  {
   "cell_type": "code",
   "execution_count": 28,
   "metadata": {
    "collapsed": false
   },
   "outputs": [],
   "source": [
    "data = pd.read_csv(\"Data/Istanbul.csv\") \n",
    "data = data.drop(['date'], axis=1).values"
   ]
  },
  {
   "cell_type": "code",
   "execution_count": 31,
   "metadata": {
    "collapsed": false
   },
   "outputs": [
    {
     "name": "stdout",
     "output_type": "stream",
     "text": [
      "(215, 8)\n",
      "(215,)\n"
     ]
    }
   ],
   "source": [
    "# compute how much of the data is training and testing\n",
    "train_rows = int(0.6* data.shape[0])\n",
    "test_rows = data.shape[0] - train_rows\n",
    "# separate out training and testing data\n",
    "trainX = data[:train_rows,0:-1]\n",
    "trainY = data[:train_rows,-1]\n",
    "testX = data[train_rows:,0:-1]\n",
    "testY = data[train_rows:,-1]\n",
    "print(testX.shape)\n",
    "print(testY.shape)"
   ]
  },
  {
   "cell_type": "code",
   "execution_count": 72,
   "metadata": {
    "collapsed": false
   },
   "outputs": [
    {
     "name": "stderr",
     "output_type": "stream",
     "text": [
      "/home/talant/anaconda3/lib/python3.5/site-packages/numpy/lib/function_base.py:3167: RuntimeWarning: invalid value encountered in true_divide\n",
      "  c /= stddev[:, None]\n",
      "/home/talant/anaconda3/lib/python3.5/site-packages/numpy/lib/function_base.py:3168: RuntimeWarning: invalid value encountered in true_divide\n",
      "  c /= stddev[None, :]\n"
     ]
    }
   ],
   "source": [
    "rmse_train = []\n",
    "rmse_test = []\n",
    "leaf_size = []\n",
    "\n",
    "for i in range(1,50):\n",
    "    leaf_size.append(i)\n",
    "    learner = dt.DTLearner(leaf_size = i, verbose = False) \n",
    "    learner.addEvidence(trainX, trainY) \n",
    "    \n",
    "    pred_train = learner.query(trainX) \n",
    "    rmse_train.append(math.sqrt(((trainY - pred_train) ** 2).sum()/trainY.shape[0]))\n",
    "\n",
    "    pred_test = learner.query(testX) \n",
    "    rmse_test.append(math.sqrt(((testY - pred_test) ** 2).sum()/testY.shape[0]))\n",
    "    "
   ]
  },
  {
   "cell_type": "code",
   "execution_count": 83,
   "metadata": {
    "collapsed": false
   },
   "outputs": [
    {
     "data": {
      "text/plain": [
       "<matplotlib.text.Text at 0x7f0fb2eed5f8>"
      ]
     },
     "execution_count": 83,
     "metadata": {},
     "output_type": "execute_result"
    },
    {
     "data": {
      "image/png": "[encoded data removed]",
      "text/plain": [
       "<matplotlib.figure.Figure at 0x7f0fb2e0d128>"
      ]
     },
     "metadata": {},
     "output_type": "display_data"
    }
   ],
   "source": [
    "sns.set_style(\"whitegrid\")\n",
    "fig = plt.figure(figsize=(8,6))\n",
    "plt.plot(leaf_size, rmse_train)\n",
    "plt.title(\"DTLerner\",size=15)\n",
    "plt.plot(leaf_size, rmse_test)\n",
    "plt.legend([\"In Sample\",\"Out Sample\"],loc=4)\n",
    "plt.ylabel('RMSE', size=15)\n",
    "plt.xlabel('Leaf Size',size=15)"
   ]
  },
  {
   "cell_type": "code",
   "execution_count": null,
   "metadata": {
    "collapsed": false
   },
   "outputs": [],
   "source": []
  },
  {
   "cell_type": "markdown",
   "metadata": {},
   "source": [
    "It looks like overfitting occurs as we increase leaf size. "
   ]
  },
  {
   "cell_type": "code",
   "execution_count": null,
   "metadata": {
    "collapsed": true
   },
   "outputs": [],
   "source": []
  },
  {
   "cell_type": "code",
   "execution_count": null,
   "metadata": {
    "collapsed": true
   },
   "outputs": [],
   "source": []
  },
  {
   "cell_type": "code",
   "execution_count": null,
   "metadata": {
    "collapsed": true
   },
   "outputs": [],
   "source": []
  }
 ],
 "metadata": {
  "anaconda-cloud": {},
  "kernelspec": {
   "display_name": "Python [default]",
   "language": "python",
   "name": "python3"
  },
  "language_info": {
   "codemirror_mode": {
    "name": "ipython",
    "version": 3
   },
   "file_extension": ".py",
   "mimetype": "text/x-python",
   "name": "python",
   "nbconvert_exporter": "python",
   "pygments_lexer": "ipython3",
   "version": "3.5.2"
  }
 },
 "nbformat": 4,
 "nbformat_minor": 1
}
